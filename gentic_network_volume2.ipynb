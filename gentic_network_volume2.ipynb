{
 "cells": [
  {
   "cell_type": "code",
   "execution_count": 1,
   "id": "f6480c12",
   "metadata": {},
   "outputs": [
    {
     "name": "stderr",
     "output_type": "stream",
     "text": [
      "2022-07-06 22:59:39.350189: W tensorflow/stream_executor/platform/default/dso_loader.cc:64] Could not load dynamic library 'libcudart.so.11.0'; dlerror: libcudart.so.11.0: cannot open shared object file: No such file or directory\n",
      "2022-07-06 22:59:39.350241: I tensorflow/stream_executor/cuda/cudart_stub.cc:29] Ignore above cudart dlerror if you do not have a GPU set up on your machine.\n"
     ]
    }
   ],
   "source": [
    "import random\n",
    "import random as rand\n",
    "from random import randint\n",
    "import numpy as np\n",
    "import tensorflow as tf\n",
    "#bce = tf.keras.losses.BinaryCrossentropy()\n",
    "from  sklearn import  datasets\n",
    "iris=datasets.load_iris()\n",
    "X = iris.data\n",
    "y = iris.target"
   ]
  },
  {
   "cell_type": "code",
   "execution_count": 2,
   "id": "7b0f60a2",
   "metadata": {},
   "outputs": [],
   "source": [
    "dims = (4,4,4,4,3)\n",
    "def Net(dims, inputs):\n",
    "    net = []\n",
    "    I = 0\n",
    "    for i in dims:\n",
    "        l =  0.01 * np.random.randn(inputs, i)\n",
    "        net.append(l)\n",
    "        #print(l)\n",
    "        inputs = i\n",
    "        I+=1\n",
    "    return net\n"
   ]
  },
  {
   "cell_type": "code",
   "execution_count": 3,
   "id": "12557498",
   "metadata": {},
   "outputs": [],
   "source": [
    "def forward(net, inputs):\n",
    "    #print(net)\n",
    "    for i in range(len(net)):\n",
    "        if i != (len(net)-1):\n",
    "            inputs = relu(np.dot(inputs, net[i]))\n",
    "        else:\n",
    "            inputs = softmax(np.dot(inputs, net[i])) \n",
    "        #print(inputs.shape)\n",
    "        #inputs = relu(np.dot(net[i], inputs))\n",
    "    return inputs"
   ]
  },
  {
   "cell_type": "code",
   "execution_count": 4,
   "id": "5b0f6b95",
   "metadata": {},
   "outputs": [],
   "source": [
    "def relu(x):\n",
    "    for i in range(len(x)):\n",
    "        if x[i] > 0:\n",
    "            pass\n",
    "        else:\n",
    "            pass\n",
    "            #x[i] = 0\n",
    "    return x\n",
    "\n",
    "def sigmoid(x):\n",
    "    return 1/(1 + np.exp(-x))\n",
    "\n",
    "def softmax(vector):\n",
    "\te = np.exp(vector)\n",
    "\treturn e / e.sum()"
   ]
  },
  {
   "cell_type": "code",
   "execution_count": 5,
   "id": "b54e8071",
   "metadata": {},
   "outputs": [],
   "source": [
    "def flatten(net):\n",
    "    front = np.array(net[:len(net)-1])\n",
    "    flat = front.flatten()\n",
    "    out = net[-1].flatten()\n",
    "    network = np.concatenate((flat, out), axis=0)\n",
    "    #print(network.shape)\n",
    "    return network\n",
    "\n",
    "def reform(dims, net):\n",
    "    sub = dims[-1] * dims[-2]\n",
    "    #print(net)\n",
    "    output = net[-sub:]\n",
    "    rest = net[:-sub]\n",
    "    #print(rest)\n",
    "    network = rest.reshape(dims[:-2])\n",
    "    output = output.reshape(4,3)\n",
    "    #print(np.array([network, output]))\n",
    "    layers = []\n",
    "    for i in range(len(network)+1):\n",
    "        if i!=4:\n",
    "            layers.append(network[i])\n",
    "        else:\n",
    "            layers.append(output)\n",
    "        #print(i)\n",
    "    return layers"
   ]
  },
  {
   "cell_type": "code",
   "execution_count": 6,
   "id": "868fa43c",
   "metadata": {},
   "outputs": [
    {
     "name": "stdout",
     "output_type": "stream",
     "text": [
      "50\n"
     ]
    }
   ],
   "source": [
    "# call population to get list of numpy arrays\n",
    "pops = []\n",
    "for i in range(50):\n",
    "    pops.append(Net(dims, 4))\n",
    "#SortedPop = pops\n",
    "print(len(pops))"
   ]
  },
  {
   "cell_type": "code",
   "execution_count": 7,
   "id": "45d3a1be",
   "metadata": {},
   "outputs": [],
   "source": [
    "def accuracy(X, y, net):\n",
    "    correct = 0\n",
    "    for i in range(round(len(y)/1)):\n",
    "        #print(best)\n",
    "        #print(len(net))\n",
    "        #print(net)\n",
    "        #print(forward(net, X[i]))\n",
    "        if y[i] - np.argmax(forward(net, X[i])) == 0:\n",
    "            correct += 1\n",
    "    accuracy = correct/len(y)\n",
    "    return accuracy"
   ]
  },
  {
   "cell_type": "code",
   "execution_count": 8,
   "id": "5514d76f",
   "metadata": {},
   "outputs": [
    {
     "name": "stdout",
     "output_type": "stream",
     "text": [
      "50\n"
     ]
    }
   ],
   "source": [
    "#sort population based its objective score\n",
    "def objective(pops, X, y):\n",
    "    SortedPop = []\n",
    "    bestE = 0\n",
    "    bestI = 0\n",
    "    best = pops[0]\n",
    "    for i in range(len(pops)):\n",
    "        #print(best)\n",
    "        if bestE < accuracy(X, y, pops[i]):\n",
    "            bestI = i\n",
    "            best = pops[i]\n",
    "            bestE = accuracy(X, y, pops[i])\n",
    "    pops.pop(bestI)\n",
    "    return best, bestE, pops\n",
    "\n",
    "SortedPop = []\n",
    "for i in range(len(pops)):\n",
    "    best, score, pops = objective(pops, X, y)\n",
    "    #print(score)\n",
    "    #isinstance(best, list)\n",
    "    if isinstance(best, list):\n",
    "        SortedPop.append(best)\n",
    "        #print(np.array(best[:-1]).shape)\n",
    "#print('first')    \n",
    "#print(SortedPop[0])\n",
    "print(len(SortedPop))\n",
    "pops = SortedPop"
   ]
  },
  {
   "cell_type": "code",
   "execution_count": 9,
   "id": "cce0b943",
   "metadata": {},
   "outputs": [
    {
     "data": {
      "text/plain": [
       "\"\\ndef crossover(p1, p2, r_cross):\\n    #print('cross')\\n    #if random.uniform(0, 1) < r_cross:\\n    pt = randint(1, 76-2)\\n    #print(pt)\\n    c1 = np.concatenate((flatten(p1)[:pt], flatten(p2)[pt:]), axis=0)\\n    #c1 = p1[:pt] + p2[pt:]\\n    c2 = np.concatenate((flatten(p2)[:pt], flatten(p1)[pt:]), axis=0)\\n    return [c1, c2]\\n\""
      ]
     },
     "execution_count": 9,
     "metadata": {},
     "output_type": "execute_result"
    }
   ],
   "source": [
    "\n",
    "def crossover(p1, p2, r_cross):\n",
    "\t# children are copies of parents by default\n",
    "\tc1, c2 = p1.copy(), p2.copy()\n",
    "\t# check for recombination\n",
    "\tif random.uniform(0, 1) < r_cross:\n",
    "\t\t# select crossover point that is not on the end of the string\n",
    "\t\tpt = randint(1, 76-2)\n",
    "\t\t#print(len(flatten(c1)))\n",
    "\t\t# perform crossover\n",
    "\t\tc1 = np.concatenate((flatten(c1)[:pt], flatten(c2)[pt:]), axis=0)\n",
    "\t\t#c1 = p1[:pt] + p2[pt:]\n",
    "\t\tc2 = np.concatenate((flatten(c2)[:pt], flatten(c1)[pt:]), axis=0)\n",
    "\t\t#c2 = p2[:pt] + p1[pt:]\n",
    "\t\t#print(c1.shape)\n",
    "\t\t#print(c1.shape)\n",
    "\t\treturn [c1, c2]\n",
    "\treturn [flatten(c1), flatten(c2)]\n",
    "'''\n",
    "def crossover(p1, p2, r_cross):\n",
    "    #print('cross')\n",
    "    #if random.uniform(0, 1) < r_cross:\n",
    "    pt = randint(1, 76-2)\n",
    "    #print(pt)\n",
    "    c1 = np.concatenate((flatten(p1)[:pt], flatten(p2)[pt:]), axis=0)\n",
    "    #c1 = p1[:pt] + p2[pt:]\n",
    "    c2 = np.concatenate((flatten(p2)[:pt], flatten(p1)[pt:]), axis=0)\n",
    "    return [c1, c2]\n",
    "'''"
   ]
  },
  {
   "cell_type": "code",
   "execution_count": 10,
   "id": "7504d7b9",
   "metadata": {},
   "outputs": [],
   "source": [
    "def mutation(bitstring, r_mut):\n",
    "\tfor i in range(len(bitstring)):\n",
    "\t\t# check for a mutation\n",
    "\t\tif random.uniform(0, 1) < r_mut:\n",
    "\t\t\t# flip the bit\n",
    "\t\t\tbitstring[i] = np.random.rand() * .01\n",
    "\t\t\t#print('boink')\n",
    "#\treturn bitstring"
   ]
  },
  {
   "cell_type": "code",
   "execution_count": 11,
   "id": "5541302a",
   "metadata": {},
   "outputs": [],
   "source": [
    "def genetic_algorithm(gens, pops, X, y):\n",
    "    #pops = population(24, 12)\n",
    "    #print(len(pops))\n",
    "    SortedPop = [pops[0]]\n",
    "    g = 0\n",
    "    #print(accuracy(X, y, SortedPop[0]))\n",
    "    while accuracy(X, y, SortedPop[0]) < .9:\n",
    "        SortedPop = []\n",
    "        for j in range(len(pops)):\n",
    "            best, score, pops = objective(pops, X, y)\n",
    "            SortedPop.append(best)\n",
    "            #print(np.array(SortedPop[0][:-1]).shape)\n",
    "        \n",
    "        #children = []\n",
    "        SortedPop = SortedPop[:50]\n",
    "        for i in range(0, len(SortedPop), 2):\n",
    "            p1, p2 = SortedPop[i], SortedPop[i+1]\n",
    "            for c in crossover(p1,p2, .8):\n",
    "                mutation(c, .2)\n",
    "                SortedPop.append(reform((4,4,4,4,3),c))\n",
    "        g += 1\n",
    "        print(g)\n",
    "        pops = SortedPop\n",
    "        print(accuracy(X, y, SortedPop[0]))\n",
    "    return SortedPop[0]\n",
    "    "
   ]
  },
  {
   "cell_type": "code",
   "execution_count": null,
   "id": "a02586b9",
   "metadata": {},
   "outputs": [
    {
     "name": "stdout",
     "output_type": "stream",
     "text": [
      "1\n",
      "0.6666666666666666\n",
      "2\n",
      "0.6666666666666666\n",
      "3\n",
      "0.8\n",
      "4\n",
      "0.8\n",
      "5\n",
      "0.8\n",
      "6\n",
      "0.8\n",
      "7\n",
      "0.8\n"
     ]
    }
   ],
   "source": [
    "#print(np.array(crossover(pops[0], pops[1], .8)[0][:-1]).shape)\n",
    "genetic_algorithm(100, pops, X, y)"
   ]
  },
  {
   "cell_type": "code",
   "execution_count": null,
   "id": "fff3bec4",
   "metadata": {},
   "outputs": [],
   "source": []
  },
  {
   "cell_type": "code",
   "execution_count": null,
   "id": "fc140087",
   "metadata": {},
   "outputs": [],
   "source": []
  }
 ],
 "metadata": {
  "kernelspec": {
   "display_name": "Python 3 (ipykernel)",
   "language": "python",
   "name": "python3"
  },
  "language_info": {
   "codemirror_mode": {
    "name": "ipython",
    "version": 3
   },
   "file_extension": ".py",
   "mimetype": "text/x-python",
   "name": "python",
   "nbconvert_exporter": "python",
   "pygments_lexer": "ipython3",
   "version": "3.8.10"
  }
 },
 "nbformat": 4,
 "nbformat_minor": 5
}
